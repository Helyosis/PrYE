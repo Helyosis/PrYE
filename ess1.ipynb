{
 "cells": [
  {
   "cell_type": "markdown",
   "metadata": {},
   "source": [
    "<h1>Premier Grand titre</h1>\n",
    "# ou comme ça ?\n",
    "\n",
    "Avec du text *italique* ou **gras**\n",
    "```python\n",
    "print(\"hello world\")\n",
    "```\n",
    "et après?\n"
   ]
  },
  {
   "cell_type": "code",
   "execution_count": null,
   "metadata": {},
   "outputs": [],
   "source": [
    "a = 12"
   ]
  },
  {
   "cell_type": "code",
   "execution_count": null,
   "metadata": {
    "scrolled": true
   },
   "outputs": [],
   "source": [
    "print(\"coucou !\")"
   ]
  },
  {
   "cell_type": "markdown",
   "metadata": {},
   "source": [
    "\\\\[ \\lim_{n \\to + \\infty} \\sum_{k=0}^n \\frac{1}{n^2}=\\frac{\\pi^2}{6}\\\\]"
   ]
  },
  {
   "cell_type": "markdown",
   "metadata": {},
   "source": [
    "## level 2 heading\n",
    "\n",
    "$$\\int_a^b f(x) dx$$ ou $\\lim_{x \\to +\\infty}$\n"
   ]
  },
  {
   "cell_type": "code",
   "execution_count": null,
   "metadata": {},
   "outputs": [],
   "source": [
    "toto = 42\n",
    "def ma_fonction(x):\n",
    "    \"\"\"une super fonction\n",
    "    :param x: un paramètre **super** important\n",
    "    :type x: int\n",
    "    \"\"\"\n",
    "    return x"
   ]
  },
  {
   "cell_type": "code",
   "execution_count": null,
   "metadata": {},
   "outputs": [],
   "source": [
    "help(ma_fonction)"
   ]
  },
  {
   "cell_type": "code",
   "execution_count": null,
   "metadata": {},
   "outputs": [],
   "source": [
    "x = input(\"valeur :\")\n",
    "print(2*x)"
   ]
  },
  {
   "cell_type": "code",
   "execution_count": null,
   "metadata": {},
   "outputs": [],
   "source": [
    "%connect_info"
   ]
  },
  {
   "cell_type": "markdown",
   "metadata": {},
   "source": [
    "inclure du code :\n",
    "\n",
    "    def f(x):\n",
    "        \"bla bla\"\n",
    "        return x\n",
    "\n",
    "    int f(int x) {\n",
    "        for (i=0; i<x; i++) {\n",
    "            printf(\"%n\", i)\n",
    "        }\n",
    "        return x\n",
    "        }"
   ]
  },
  {
   "cell_type": "markdown",
   "metadata": {},
   "source": [
    "[fichier](../projet_eval.pdf)"
   ]
  },
  {
   "cell_type": "code",
   "execution_count": null,
   "metadata": {},
   "outputs": [],
   "source": [
    "In [2]: from IPython.display import Audio\n",
    "\n",
    "In [3]: import numpy as np\n",
    "\n",
    "In [4]: t = np.linspace(0, 3, 24000)\n",
    "\n",
    "In [5]: s = np.sin(2*np.pi*220*t)+np.sin(2*np.pi*224*t)\n",
    "\n",
    "In [6]: Audio(data=s, rate=8000)\n"
   ]
  },
  {
   "cell_type": "code",
   "execution_count": null,
   "metadata": {},
   "outputs": [],
   "source": []
  }
 ],
 "metadata": {
  "celltoolbar": "Raw Cell Format",
  "kernelspec": {
   "display_name": "Python 3",
   "language": "python",
   "name": "python3"
  },
  "language_info": {
   "codemirror_mode": {
    "name": "ipython",
    "version": 3
   },
   "file_extension": ".py",
   "mimetype": "text/x-python",
   "name": "python",
   "nbconvert_exporter": "python",
   "pygments_lexer": "ipython3",
   "version": "3.6.8"
  }
 },
 "nbformat": 4,
 "nbformat_minor": 2
}
